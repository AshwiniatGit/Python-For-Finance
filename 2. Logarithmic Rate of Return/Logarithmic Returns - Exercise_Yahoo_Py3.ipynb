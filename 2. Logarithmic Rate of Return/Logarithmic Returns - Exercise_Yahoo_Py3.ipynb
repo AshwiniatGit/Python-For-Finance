{
 "cells": [
  {
   "cell_type": "markdown",
   "metadata": {},
   "source": [
    "## Logarithmic Returns"
   ]
  },
  {
   "cell_type": "code",
   "execution_count": 1,
   "metadata": {},
   "outputs": [
    {
     "name": "stderr",
     "output_type": "stream",
     "text": [
      "C:\\Users\\aks13\\anaconda3\\lib\\site-packages\\pandas_datareader\\compat\\__init__.py:7: FutureWarning: pandas.util.testing is deprecated. Use the functions in the public API at pandas.testing instead.\n",
      "  from pandas.util.testing import assert_frame_equal\n"
     ]
    },
    {
     "data": {
      "text/html": [
       "<div>\n",
       "<style scoped>\n",
       "    .dataframe tbody tr th:only-of-type {\n",
       "        vertical-align: middle;\n",
       "    }\n",
       "\n",
       "    .dataframe tbody tr th {\n",
       "        vertical-align: top;\n",
       "    }\n",
       "\n",
       "    .dataframe thead th {\n",
       "        text-align: right;\n",
       "    }\n",
       "</style>\n",
       "<table border=\"1\" class=\"dataframe\">\n",
       "  <thead>\n",
       "    <tr style=\"text-align: right;\">\n",
       "      <th></th>\n",
       "      <th>High</th>\n",
       "      <th>Low</th>\n",
       "      <th>Open</th>\n",
       "      <th>Close</th>\n",
       "      <th>Volume</th>\n",
       "      <th>Adj Close</th>\n",
       "    </tr>\n",
       "    <tr>\n",
       "      <th>Date</th>\n",
       "      <th></th>\n",
       "      <th></th>\n",
       "      <th></th>\n",
       "      <th></th>\n",
       "      <th></th>\n",
       "      <th></th>\n",
       "    </tr>\n",
       "  </thead>\n",
       "  <tbody>\n",
       "    <tr>\n",
       "      <th>1999-12-31</th>\n",
       "      <td>58.875000</td>\n",
       "      <td>58.125000</td>\n",
       "      <td>58.750000</td>\n",
       "      <td>58.375000</td>\n",
       "      <td>12517600.0</td>\n",
       "      <td>37.453701</td>\n",
       "    </tr>\n",
       "    <tr>\n",
       "      <th>2000-01-03</th>\n",
       "      <td>59.312500</td>\n",
       "      <td>56.000000</td>\n",
       "      <td>58.687500</td>\n",
       "      <td>58.281250</td>\n",
       "      <td>53228400.0</td>\n",
       "      <td>37.393559</td>\n",
       "    </tr>\n",
       "    <tr>\n",
       "      <th>2000-01-04</th>\n",
       "      <td>58.562500</td>\n",
       "      <td>56.125000</td>\n",
       "      <td>56.781250</td>\n",
       "      <td>56.312500</td>\n",
       "      <td>54119000.0</td>\n",
       "      <td>36.130390</td>\n",
       "    </tr>\n",
       "    <tr>\n",
       "      <th>2000-01-05</th>\n",
       "      <td>58.187500</td>\n",
       "      <td>54.687500</td>\n",
       "      <td>55.562500</td>\n",
       "      <td>56.906250</td>\n",
       "      <td>64059600.0</td>\n",
       "      <td>36.511333</td>\n",
       "    </tr>\n",
       "    <tr>\n",
       "      <th>2000-01-06</th>\n",
       "      <td>56.937500</td>\n",
       "      <td>54.187500</td>\n",
       "      <td>56.093750</td>\n",
       "      <td>55.000000</td>\n",
       "      <td>54976600.0</td>\n",
       "      <td>35.288280</td>\n",
       "    </tr>\n",
       "    <tr>\n",
       "      <th>...</th>\n",
       "      <td>...</td>\n",
       "      <td>...</td>\n",
       "      <td>...</td>\n",
       "      <td>...</td>\n",
       "      <td>...</td>\n",
       "      <td>...</td>\n",
       "    </tr>\n",
       "    <tr>\n",
       "      <th>2020-05-06</th>\n",
       "      <td>184.199997</td>\n",
       "      <td>181.630005</td>\n",
       "      <td>182.080002</td>\n",
       "      <td>182.539993</td>\n",
       "      <td>32139300.0</td>\n",
       "      <td>182.539993</td>\n",
       "    </tr>\n",
       "    <tr>\n",
       "      <th>2020-05-07</th>\n",
       "      <td>184.550003</td>\n",
       "      <td>182.580002</td>\n",
       "      <td>184.169998</td>\n",
       "      <td>183.600006</td>\n",
       "      <td>28316000.0</td>\n",
       "      <td>183.600006</td>\n",
       "    </tr>\n",
       "    <tr>\n",
       "      <th>2020-05-08</th>\n",
       "      <td>185.000000</td>\n",
       "      <td>183.360001</td>\n",
       "      <td>184.979996</td>\n",
       "      <td>184.679993</td>\n",
       "      <td>30912600.0</td>\n",
       "      <td>184.679993</td>\n",
       "    </tr>\n",
       "    <tr>\n",
       "      <th>2020-05-11</th>\n",
       "      <td>187.509995</td>\n",
       "      <td>182.850006</td>\n",
       "      <td>183.149994</td>\n",
       "      <td>186.740005</td>\n",
       "      <td>30892700.0</td>\n",
       "      <td>186.740005</td>\n",
       "    </tr>\n",
       "    <tr>\n",
       "      <th>2020-05-12</th>\n",
       "      <td>187.039993</td>\n",
       "      <td>182.300003</td>\n",
       "      <td>186.800003</td>\n",
       "      <td>182.509995</td>\n",
       "      <td>31952900.0</td>\n",
       "      <td>182.509995</td>\n",
       "    </tr>\n",
       "  </tbody>\n",
       "</table>\n",
       "<p>5123 rows × 6 columns</p>\n",
       "</div>"
      ],
      "text/plain": [
       "                  High         Low        Open       Close      Volume  \\\n",
       "Date                                                                     \n",
       "1999-12-31   58.875000   58.125000   58.750000   58.375000  12517600.0   \n",
       "2000-01-03   59.312500   56.000000   58.687500   58.281250  53228400.0   \n",
       "2000-01-04   58.562500   56.125000   56.781250   56.312500  54119000.0   \n",
       "2000-01-05   58.187500   54.687500   55.562500   56.906250  64059600.0   \n",
       "2000-01-06   56.937500   54.187500   56.093750   55.000000  54976600.0   \n",
       "...                ...         ...         ...         ...         ...   \n",
       "2020-05-06  184.199997  181.630005  182.080002  182.539993  32139300.0   \n",
       "2020-05-07  184.550003  182.580002  184.169998  183.600006  28316000.0   \n",
       "2020-05-08  185.000000  183.360001  184.979996  184.679993  30912600.0   \n",
       "2020-05-11  187.509995  182.850006  183.149994  186.740005  30892700.0   \n",
       "2020-05-12  187.039993  182.300003  186.800003  182.509995  31952900.0   \n",
       "\n",
       "             Adj Close  \n",
       "Date                    \n",
       "1999-12-31   37.453701  \n",
       "2000-01-03   37.393559  \n",
       "2000-01-04   36.130390  \n",
       "2000-01-05   36.511333  \n",
       "2000-01-06   35.288280  \n",
       "...                ...  \n",
       "2020-05-06  182.539993  \n",
       "2020-05-07  183.600006  \n",
       "2020-05-08  184.679993  \n",
       "2020-05-11  186.740005  \n",
       "2020-05-12  182.509995  \n",
       "\n",
       "[5123 rows x 6 columns]"
      ]
     },
     "execution_count": 1,
     "metadata": {},
     "output_type": "execute_result"
    }
   ],
   "source": [
    "import numpy as np\n",
    "from pandas_datareader import data as wb\n",
    "import matplotlib.pyplot as plt\n",
    "MSFT = wb.DataReader('MSFT', data_source='yahoo', start='2000-1-1')\n",
    "MSFT"
   ]
  },
  {
   "cell_type": "markdown",
   "metadata": {},
   "source": [
    "### Log Returns"
   ]
  },
  {
   "cell_type": "markdown",
   "metadata": {},
   "source": [
    "$$\n",
    "ln(\\frac{P_t}{P_{t-1}})\n",
    "$$"
   ]
  },
  {
   "cell_type": "markdown",
   "metadata": {},
   "source": [
    "Calculate the Log returns for Microsoft."
   ]
  },
  {
   "cell_type": "code",
   "execution_count": 3,
   "metadata": {},
   "outputs": [
    {
     "data": {
      "text/plain": [
       "Date\n",
       "1999-12-31         NaN\n",
       "2000-01-03   -0.001607\n",
       "2000-01-04   -0.034364\n",
       "2000-01-05    0.010488\n",
       "2000-01-06   -0.034072\n",
       "                ...   \n",
       "2020-05-06    0.009799\n",
       "2020-05-07    0.005790\n",
       "2020-05-08    0.005865\n",
       "2020-05-11    0.011093\n",
       "2020-05-12   -0.022912\n",
       "Name: Adj Close, Length: 5123, dtype: float64"
      ]
     },
     "execution_count": 3,
     "metadata": {},
     "output_type": "execute_result"
    }
   ],
   "source": [
    "returns = np.log(MSFT['Adj Close'] / MSFT['Adj Close'].shift(1))\n",
    "returns"
   ]
  },
  {
   "cell_type": "markdown",
   "metadata": {},
   "source": [
    "Plot the results on a graph."
   ]
  },
  {
   "cell_type": "code",
   "execution_count": 6,
   "metadata": {},
   "outputs": [
    {
     "data": {
      "text/plain": [
       "<matplotlib.axes._subplots.AxesSubplot at 0x244dedf0e88>"
      ]
     },
     "execution_count": 6,
     "metadata": {},
     "output_type": "execute_result"
    },
    {
     "data": {
      "image/png": "[encoded data removed]",
      "text/plain": [
       "<Figure size 576x360 with 1 Axes>"
      ]
     },
     "metadata": {
      "needs_background": "light"
     },
     "output_type": "display_data"
    }
   ],
   "source": [
    "returns.plot(figsize=(8,5))"
   ]
  },
  {
   "cell_type": "markdown",
   "metadata": {},
   "source": [
    "Estimate the daily and the annual mean of the obtained log returns."
   ]
  },
  {
   "cell_type": "code",
   "execution_count": 8,
   "metadata": {},
   "outputs": [
    {
     "data": {
      "text/plain": [
       "0.00030919551059129213"
      ]
     },
     "execution_count": 8,
     "metadata": {},
     "output_type": "execute_result"
    }
   ],
   "source": [
    "returns_daily = returns.mean()\n",
    "returns_daily"
   ]
  },
  {
   "cell_type": "code",
   "execution_count": 9,
   "metadata": {},
   "outputs": [
    {
     "data": {
      "text/plain": [
       "0.07729887764782303"
      ]
     },
     "execution_count": 9,
     "metadata": {},
     "output_type": "execute_result"
    }
   ],
   "source": [
    "returns_annual = returns.mean() * 250\n",
    "returns_annual"
   ]
  },
  {
   "cell_type": "markdown",
   "metadata": {},
   "source": [
    "Print the result in a presentable form."
   ]
  },
  {
   "cell_type": "code",
   "execution_count": 10,
   "metadata": {},
   "outputs": [
    {
     "name": "stdout",
     "output_type": "stream",
     "text": [
      "The Logarithmic rate of Return for MSFT : 7.73 %\n"
     ]
    }
   ],
   "source": [
    "print('The Logarithmic rate of Return for MSFT :',str(round(returns_annual*100,2)),'%')"
   ]
  },
  {
   "cell_type": "markdown",
   "metadata": {},
   "source": [
    "****"
   ]
  },
  {
   "cell_type": "markdown",
   "metadata": {},
   "source": [
    "Repeat this exercise for any stock of interest to you. :)"
   ]
  }
 ],
 "metadata": {
  "kernelspec": {
   "display_name": "Python 3",
   "language": "python",
   "name": "python3"
  },
  "language_info": {
   "codemirror_mode": {
    "name": "ipython",
    "version": 3
   },
   "file_extension": ".py",
   "mimetype": "text/x-python",
   "name": "python",
   "nbconvert_exporter": "python",
   "pygments_lexer": "ipython3",
   "version": "3.7.6"
  }
 },
 "nbformat": 4,
 "nbformat_minor": 2
}
